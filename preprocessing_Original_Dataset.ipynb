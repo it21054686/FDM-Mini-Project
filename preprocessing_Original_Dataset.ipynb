{
 "cells": [
  {
   "cell_type": "code",
   "execution_count": 1,
   "id": "38613056",
   "metadata": {},
   "outputs": [],
   "source": [
    "#Import Libraries\n",
    "import pandas as pd\n",
    "import numpy as np\n",
    "from matplotlib import pyplot as plt\n",
    "import seaborn as sns\n",
    "from scipy import stats"
   ]
  },
  {
   "cell_type": "code",
   "execution_count": 2,
   "id": "cfd30555",
   "metadata": {},
   "outputs": [],
   "source": [
    "df = pd.read_csv(r'C:\\Users\\DELL\\OneDrive\\Desktop\\fdm_miniproject\\housing.csv')"
   ]
  },
  {
   "cell_type": "code",
   "execution_count": 3,
   "id": "b6f7eaa0",
   "metadata": {},
   "outputs": [
    {
     "name": "stdout",
     "output_type": "stream",
     "text": [
      "<class 'pandas.core.frame.DataFrame'>\n",
      "RangeIndex: 384977 entries, 0 to 384976\n",
      "Data columns (total 22 columns):\n",
      " #   Column                   Non-Null Count   Dtype  \n",
      "---  ------                   --------------   -----  \n",
      " 0   id                       384977 non-null  int64  \n",
      " 1   url                      384977 non-null  object \n",
      " 2   region                   384977 non-null  object \n",
      " 3   region_url               384977 non-null  object \n",
      " 4   price                    384977 non-null  int64  \n",
      " 5   type                     384977 non-null  object \n",
      " 6   sqfeet                   384977 non-null  int64  \n",
      " 7   beds                     384977 non-null  int64  \n",
      " 8   baths                    384977 non-null  float64\n",
      " 9   cats_allowed             384977 non-null  int64  \n",
      " 10  dogs_allowed             384977 non-null  int64  \n",
      " 11  smoking_allowed          384977 non-null  int64  \n",
      " 12  wheelchair_access        384977 non-null  int64  \n",
      " 13  electric_vehicle_charge  384977 non-null  int64  \n",
      " 14  comes_furnished          384977 non-null  int64  \n",
      " 15  laundry_options          305951 non-null  object \n",
      " 16  parking_options          244290 non-null  object \n",
      " 17  image_url                384977 non-null  object \n",
      " 18  description              384975 non-null  object \n",
      " 19  lat                      383059 non-null  float64\n",
      " 20  long                     383059 non-null  float64\n",
      " 21  state                    384977 non-null  object \n",
      "dtypes: float64(3), int64(10), object(9)\n",
      "memory usage: 64.6+ MB\n"
     ]
    }
   ],
   "source": [
    "#Data Set Information\n",
    "df.info()"
   ]
  },
  {
   "cell_type": "code",
   "execution_count": 4,
   "id": "38364e21",
   "metadata": {},
   "outputs": [
    {
     "data": {
      "text/plain": [
       "id                              0\n",
       "url                             0\n",
       "region                          0\n",
       "region_url                      0\n",
       "price                           0\n",
       "type                            0\n",
       "sqfeet                          0\n",
       "beds                            0\n",
       "baths                           0\n",
       "cats_allowed                    0\n",
       "dogs_allowed                    0\n",
       "smoking_allowed                 0\n",
       "wheelchair_access               0\n",
       "electric_vehicle_charge         0\n",
       "comes_furnished                 0\n",
       "laundry_options             79026\n",
       "parking_options            140687\n",
       "image_url                       0\n",
       "description                     2\n",
       "lat                          1918\n",
       "long                         1918\n",
       "state                           0\n",
       "dtype: int64"
      ]
     },
     "execution_count": 4,
     "metadata": {},
     "output_type": "execute_result"
    }
   ],
   "source": [
    "#Check Null Values before removing null values in the Data Set(Before Removing Null Values)\n",
    "df.isnull().sum()"
   ]
  },
  {
   "cell_type": "code",
   "execution_count": 5,
   "id": "c3ea4f48",
   "metadata": {},
   "outputs": [],
   "source": [
    "#Removing all Null values \n",
    "df =df.dropna()"
   ]
  },
  {
   "cell_type": "code",
   "execution_count": 6,
   "id": "b3f736ab",
   "metadata": {},
   "outputs": [
    {
     "data": {
      "text/plain": [
       "id                         0\n",
       "url                        0\n",
       "region                     0\n",
       "region_url                 0\n",
       "price                      0\n",
       "type                       0\n",
       "sqfeet                     0\n",
       "beds                       0\n",
       "baths                      0\n",
       "cats_allowed               0\n",
       "dogs_allowed               0\n",
       "smoking_allowed            0\n",
       "wheelchair_access          0\n",
       "electric_vehicle_charge    0\n",
       "comes_furnished            0\n",
       "laundry_options            0\n",
       "parking_options            0\n",
       "image_url                  0\n",
       "description                0\n",
       "lat                        0\n",
       "long                       0\n",
       "state                      0\n",
       "dtype: int64"
      ]
     },
     "execution_count": 6,
     "metadata": {},
     "output_type": "execute_result"
    }
   ],
   "source": [
    "#Check Null Values in the Data Set After Removing Null Values\n",
    "df.isnull().sum()"
   ]
  },
  {
   "cell_type": "code",
   "execution_count": 7,
   "id": "701baa81",
   "metadata": {},
   "outputs": [
    {
     "data": {
      "text/plain": [
       "array(['ca', 'co', 'ct', 'dc', 'fl', 'de', 'ga', 'hi', 'id', 'il', 'in',\n",
       "       'ia', 'ks', 'ky', 'la', 'me', 'md', 'ma', 'mi', 'mn', 'ms', 'nc',\n",
       "       'mo', 'mt', 'ne', 'nv', 'nj', 'nm', 'ny', 'nh', 'oh', 'nd', 'ok',\n",
       "       'or', 'pa', 'ri', 'sc', 'tn', 'sd', 'tx', 'ut', 'va', 'vt', 'wa',\n",
       "       'wv', 'wi', 'wy', 'al', 'ak', 'az', 'ar'], dtype=object)"
      ]
     },
     "execution_count": 7,
     "metadata": {},
     "output_type": "execute_result"
    }
   ],
   "source": [
    "#State(CHECK UNIQUE VALUES)\n",
    "df.state.unique()"
   ]
  },
  {
   "cell_type": "code",
   "execution_count": 8,
   "id": "964d7617",
   "metadata": {},
   "outputs": [
    {
     "data": {
      "text/plain": [
       "array(['carport', 'attached garage', 'off-street parking',\n",
       "       'detached garage', 'street parking', 'no parking', 'valet parking'],\n",
       "      dtype=object)"
      ]
     },
     "execution_count": 8,
     "metadata": {},
     "output_type": "execute_result"
    }
   ],
   "source": [
    "df.parking_options.unique()"
   ]
  },
  {
   "cell_type": "code",
   "execution_count": 9,
   "id": "42eb3cb8",
   "metadata": {},
   "outputs": [
    {
     "data": {
      "text/plain": [
       "array(['w/d in unit', 'w/d hookups', 'laundry on site',\n",
       "       'no laundry on site', 'laundry in bldg'], dtype=object)"
      ]
     },
     "execution_count": 9,
     "metadata": {},
     "output_type": "execute_result"
    }
   ],
   "source": [
    "df.laundry_options.unique()"
   ]
  },
  {
   "cell_type": "code",
   "execution_count": 10,
   "id": "f73e446d",
   "metadata": {},
   "outputs": [
    {
     "data": {
      "text/plain": [
       "array(['apartment', 'condo', 'house', 'duplex', 'townhouse',\n",
       "       'manufactured', 'flat', 'loft', 'in-law', 'cottage/cabin', 'land',\n",
       "       'assisted living'], dtype=object)"
      ]
     },
     "execution_count": 10,
     "metadata": {},
     "output_type": "execute_result"
    }
   ],
   "source": [
    "df.type.unique()"
   ]
  },
  {
   "cell_type": "code",
   "execution_count": 11,
   "id": "91d42c11",
   "metadata": {},
   "outputs": [
    {
     "data": {
      "text/plain": [
       "array(['reno / tahoe', 'sacramento', 'boulder', 'visalia-tulare',\n",
       "       'santa barbara', 'SF bay area', 'siskiyou county',\n",
       "       'ventura county', 'san diego', 'san luis obispo', 'santa maria',\n",
       "       'stockton', 'susanville', 'colorado springs', 'yuba-sutter',\n",
       "       'denver', 'fort collins / north CO', 'western slope', 'hartford',\n",
       "       'new haven', 'eastern CT', 'washington, DC', 'pueblo',\n",
       "       'ft myers / SW florida', 'high rockies', 'jacksonville', 'ocala',\n",
       "       'daytona beach', 'eastern CO', 'northwest CT', 'lakeland',\n",
       "       'delaware', 'florida keys', 'north central FL', 'gainesville',\n",
       "       'heartland florida', 'orlando', 'panama city', 'pensacola',\n",
       "       'south florida', 'okaloosa / walton', 'space coast', 'tallahassee',\n",
       "       'sarasota-bradenton', 'tampa bay area', 'atlanta', 'augusta',\n",
       "       'brunswick', 'athens', 'albany', 'treasure coast', 'st augustine',\n",
       "       'macon / warner robins', 'columbus', 'northwest GA',\n",
       "       'savannah / hinesville', 'hawaii', 'statesboro', 'boise',\n",
       "       'valdosta', \"spokane / coeur d'alene\", 'bloomington-normal',\n",
       "       'chicago', 'twin falls', 'decatur', 'la salle co',\n",
       "       'quad cities, IA/IL', 'peoria', 'champaign urbana', 'st louis, MO',\n",
       "       'springfield', 'east idaho', 'bloomington', 'evansville',\n",
       "       'lewiston / clarkston', 'pullman / moscow', 'fort wayne',\n",
       "       'indianapolis', 'rockford', 'south bend / michiana', 'ames',\n",
       "       'richmond', 'southern illinois', 'mattoon-charleston',\n",
       "       'muncie / anderson', 'western IL', 'lafayette / west lafayette',\n",
       "       'kokomo', 'terre haute', 'cedar rapids', 'des moines',\n",
       "       'omaha / council bluffs', 'fort dodge', 'lawrence', 'wichita',\n",
       "       'bowling green', 'lexington', 'eastern kentucky', 'iowa city',\n",
       "       'louisville', 'dubuque', 'baton rouge', 'waterloo / cedar falls',\n",
       "       'manhattan', 'western KY', 'topeka', 'monroe', 'mason city',\n",
       "       'new orleans', 'kansas city, MO', 'southeast IA', 'lafayette',\n",
       "       'lake charles', 'southeast KS', 'sioux city', 'salina',\n",
       "       'northwest KS', 'southwest KS', 'houma', 'huntington-ashland',\n",
       "       'owensboro', 'central louisiana', 'shreveport', 'maine',\n",
       "       'annapolis', 'baltimore', 'frederick', 'southern maryland',\n",
       "       'boston', 'south coast', 'western massachusetts',\n",
       "       'worcester / central MA', 'western maryland', 'ann arbor',\n",
       "       'battle creek', 'detroit metro', 'holland', 'flint', 'kalamazoo',\n",
       "       'lansing', 'saginaw-midland-baycity', 'eastern shore',\n",
       "       'cumberland valley', 'cape cod / islands', 'bemidji',\n",
       "       'grand rapids', 'central michigan', 'northern michigan', 'jackson',\n",
       "       'upper peninsula', 'muskegon', 'southwest michigan', 'the thumb',\n",
       "       'port huron', 'brainerd', 'duluth / superior', 'fargo / moorhead',\n",
       "       'minneapolis / st paul', 'rochester', 'st cloud', 'hattiesburg',\n",
       "       'asheville', 'north mississippi', 'joplin', 'mankato',\n",
       "       'gulfport / biloxi', 'columbia / jeff city', 'southwest MN',\n",
       "       'st joseph', 'boone', 'charlotte', 'missoula', 'eastern NC',\n",
       "       'fayetteville', 'greensboro', 'kirksville', 'lake of the ozarks',\n",
       "       'meridian', 'southeast missouri', 'southwest MS', 'kansas city',\n",
       "       'billings', 'st louis', 'bozeman', 'eastern montana', 'kalispell',\n",
       "       'helena', 'butte', 'great falls', 'hickory / lenoir',\n",
       "       'raleigh / durham / CH', 'outer banks', 'wilmington',\n",
       "       'winston-salem', 'lincoln', 'las vegas', 'north platte',\n",
       "       'central NJ', 'north jersey', 'jersey shore', 'south jersey',\n",
       "       'albuquerque', 'buffalo', 'ithaca', 'syracuse', 'catskills',\n",
       "       'watertown', 'grand island', 'santa fe / taos', 'new york city',\n",
       "       'binghamton', 'scottsbluff / panhandle', 'farmington',\n",
       "       'plattsburgh-adirondacks', 'utica-rome-oneida', 'new hampshire',\n",
       "       'elko', 'clovis / portales', 'hudson valley', 'long island',\n",
       "       'chautauqua', 'elmira-corning', 'las cruces', 'roswell / carlsbad',\n",
       "       'glens falls', 'finger lakes', 'potsdam-canton-massena', 'oneonta',\n",
       "       'twin tiers NY/PA', 'cincinnati', 'akron / canton', 'bismarck',\n",
       "       'grand forks', 'north dakota', 'dayton / springfield',\n",
       "       'lima / findlay', 'northern panhandle', 'toledo',\n",
       "       'zanesville / cambridge', 'oklahoma city', 'ashtabula', 'lawton',\n",
       "       'chillicothe', 'texoma', 'tulsa', 'bend', 'corvallis/albany',\n",
       "       'tuscarawas co', 'cleveland', 'east oregon', 'eugene',\n",
       "       'medford-ashland', 'oregon coast', 'portland', 'stillwater',\n",
       "       'mansfield', 'parkersburg-marietta', 'sandusky', 'youngstown',\n",
       "       'fort smith, AR', 'northwest OK', 'klamath falls', 'salem',\n",
       "       'roseburg', 'harrisburg', 'philadelphia', 'erie', 'pittsburgh',\n",
       "       'rhode island', 'altoona-johnstown', 'williamsport', 'lancaster',\n",
       "       'state college', 'charleston', 'lehigh valley', 'columbia',\n",
       "       'greenville / upstate', 'hilton head', 'myrtle beach',\n",
       "       'chattanooga', 'scranton / wilkes-barre', 'clarksville',\n",
       "       'meadville', 'reading', 'south dakota', 'york',\n",
       "       'sioux falls / SE SD', 'poconos', 'cookeville', 'florence',\n",
       "       'northeast SD', 'rapid city / west SD', 'pierre / central SD',\n",
       "       'knoxville', 'nashville', 'memphis', 'austin', 'lubbock',\n",
       "       'college station', 'dallas / fort worth', 'corpus christi',\n",
       "       'el paso', 'amarillo', 'houston', 'killeen / temple / ft hood',\n",
       "       'mcallen / edinburg', 'abilene', 'tri-cities', 'brownsville',\n",
       "       'beaumont / port arthur', 'galveston', 'del rio / eagle pass',\n",
       "       'deep east texas', 'laredo', 'odessa / midland', 'waco',\n",
       "       'san antonio', 'tyler / east TX', 'victoria', 'san angelo',\n",
       "       'san marcos', 'wichita falls', 'provo / orem', 'ogden-clearfield',\n",
       "       'salt lake city', 'charlottesville', 'lynchburg',\n",
       "       'norfolk / hampton roads', 'roanoke', 'winchester', 'southwest TX',\n",
       "       'texarkana', 'vermont', 'st george', 'fredericksburg', 'logan',\n",
       "       'danville', 'harrisonburg', 'new river valley', 'southwest VA',\n",
       "       'bellingham', 'kennewick-pasco-richland', 'moses lake',\n",
       "       'seattle-tacoma', 'olympic peninsula', 'yakima', 'morgantown',\n",
       "       'madison', 'wenatchee', 'skagit / island / SJI', 'milwaukee',\n",
       "       'wausau', 'kenosha-racine', 'southern WV', 'green bay',\n",
       "       'la crosse', 'eastern panhandle', 'west virginia (old)',\n",
       "       'appleton-oshkosh-FDL', 'wyoming', 'eau claire', 'janesville',\n",
       "       'sheboygan', 'northern WI', 'auburn', 'birmingham',\n",
       "       'gadsden-anniston', 'huntsville / decatur', 'mobile', 'dothan',\n",
       "       'florence / muscle shoals', 'tuscaloosa', 'anchorage / mat-su',\n",
       "       'fairbanks', 'phoenix', 'flagstaff / sedona', 'montgomery',\n",
       "       'little rock', 'prescott', 'tucson', 'yuma', 'bakersfield',\n",
       "       'fresno / madera', 'hanford-corcoran', 'humboldt county',\n",
       "       'inland empire', 'los angeles', 'southeast alaska',\n",
       "       'mohave county', 'kenai peninsula', 'fort smith', 'jonesboro',\n",
       "       'show low', 'sierra vista', 'chico', 'gold country',\n",
       "       'imperial county', 'modesto', 'orange county', 'mendocino county',\n",
       "       'palm springs', 'merced', 'monterey bay', 'redding'], dtype=object)"
      ]
     },
     "execution_count": 11,
     "metadata": {},
     "output_type": "execute_result"
    }
   ],
   "source": [
    "df.region.unique()"
   ]
  },
  {
   "cell_type": "code",
   "execution_count": 12,
   "id": "a6e63fe4",
   "metadata": {},
   "outputs": [],
   "source": [
    "from sklearn.preprocessing import LabelEncoder\n",
    "\n",
    "le=LabelEncoder()\n",
    "df['state']=le.fit(df['state']).transform(df['state'])\n",
    "df['parking_options']=le.fit(df['parking_options']).transform(df['parking_options'])\n",
    "df['laundry_options']=le.fit(df['laundry_options']).transform(df['laundry_options'])\n",
    "df['type']=le.fit(df['type']).transform(df['type'])"
   ]
  },
  {
   "cell_type": "code",
   "execution_count": 13,
   "id": "0e35833f",
   "metadata": {},
   "outputs": [],
   "source": [
    "df[\"pets_allowed\"] = df[\"cats_allowed\"] + df[\"dogs_allowed\"]"
   ]
  },
  {
   "cell_type": "code",
   "execution_count": 14,
   "id": "6cdefb3f",
   "metadata": {},
   "outputs": [
    {
     "name": "stderr",
     "output_type": "stream",
     "text": [
      "C:\\Users\\DELL\\AppData\\Local\\Temp\\ipykernel_15200\\1713055787.py:1: SettingWithCopyWarning: \n",
      "A value is trying to be set on a copy of a slice from a DataFrame\n",
      "\n",
      "See the caveats in the documentation: https://pandas.pydata.org/pandas-docs/stable/user_guide/indexing.html#returning-a-view-versus-a-copy\n",
      "  df.pets_allowed[df.pets_allowed == 2] = 1\n"
     ]
    }
   ],
   "source": [
    "df.pets_allowed[df.pets_allowed == 2] = 1"
   ]
  },
  {
   "cell_type": "code",
   "execution_count": 15,
   "id": "9c54ed05",
   "metadata": {},
   "outputs": [
    {
     "data": {
      "text/plain": [
       "array([1, 0], dtype=int64)"
      ]
     },
     "execution_count": 15,
     "metadata": {},
     "output_type": "execute_result"
    }
   ],
   "source": [
    "df.pets_allowed.unique()"
   ]
  },
  {
   "cell_type": "code",
   "execution_count": 16,
   "id": "fdc8a1e2",
   "metadata": {},
   "outputs": [],
   "source": [
    "df = df.drop(columns =[\"region_url\",\"region\",\"url\",\"lat\",\"long\",\"description\",\"image_url\",\"id\",\"cats_allowed\",\"dogs_allowed\"])"
   ]
  },
  {
   "cell_type": "code",
   "execution_count": 17,
   "id": "1fdb1ccd",
   "metadata": {},
   "outputs": [
    {
     "name": "stdout",
     "output_type": "stream",
     "text": [
      "<class 'pandas.core.frame.DataFrame'>\n",
      "Int64Index: 235969 entries, 0 to 384976\n",
      "Data columns (total 13 columns):\n",
      " #   Column                   Non-Null Count   Dtype  \n",
      "---  ------                   --------------   -----  \n",
      " 0   price                    235969 non-null  int64  \n",
      " 1   type                     235969 non-null  int32  \n",
      " 2   sqfeet                   235969 non-null  int64  \n",
      " 3   beds                     235969 non-null  int64  \n",
      " 4   baths                    235969 non-null  float64\n",
      " 5   smoking_allowed          235969 non-null  int64  \n",
      " 6   wheelchair_access        235969 non-null  int64  \n",
      " 7   electric_vehicle_charge  235969 non-null  int64  \n",
      " 8   comes_furnished          235969 non-null  int64  \n",
      " 9   laundry_options          235969 non-null  int32  \n",
      " 10  parking_options          235969 non-null  int32  \n",
      " 11  state                    235969 non-null  int32  \n",
      " 12  pets_allowed             235969 non-null  int64  \n",
      "dtypes: float64(1), int32(4), int64(8)\n",
      "memory usage: 21.6 MB\n"
     ]
    }
   ],
   "source": [
    "df.info()"
   ]
  },
  {
   "cell_type": "code",
   "execution_count": 18,
   "id": "1f5b45e8",
   "metadata": {},
   "outputs": [
    {
     "data": {
      "text/plain": [
       "array([ 2. ,  1. ,  3. ,  1.5,  2.5,  3.5,  0. ,  4.5,  5. ,  4. ,  6. ,\n",
       "        5.5,  7. ,  6.5, 35. , 75. ,  7.5,  8. ])"
      ]
     },
     "execution_count": 18,
     "metadata": {},
     "output_type": "execute_result"
    }
   ],
   "source": [
    "df.baths.unique()"
   ]
  },
  {
   "cell_type": "code",
   "execution_count": 19,
   "id": "9ed7a5f8",
   "metadata": {},
   "outputs": [],
   "source": [
    "df[\"baths\"] = df[\"baths\"].astype(int)"
   ]
  },
  {
   "cell_type": "code",
   "execution_count": 20,
   "id": "d21ae94e",
   "metadata": {},
   "outputs": [
    {
     "data": {
      "text/plain": [
       "<Axes: xlabel='state'>"
      ]
     },
     "execution_count": 20,
     "metadata": {},
     "output_type": "execute_result"
    },
    {
     "data": {
      "image/png": "[encoded data removed]",
      "text/plain": [
       "<Figure size 640x480 with 1 Axes>"
      ]
     },
     "metadata": {},
     "output_type": "display_data"
    }
   ],
   "source": [
    "sns.boxplot(x=df['state'])"
   ]
  },
  {
   "cell_type": "code",
   "execution_count": 21,
   "id": "7addab1e",
   "metadata": {},
   "outputs": [],
   "source": [
    "index_names = df[ (df['state'] >= 38) | (df['state'] <= 9)].index\n",
    "\n",
    "df.drop(index_names, inplace = True)"
   ]
  },
  {
   "cell_type": "code",
   "execution_count": 22,
   "id": "6009a44e",
   "metadata": {},
   "outputs": [
    {
     "data": {
      "text/plain": [
       "array([10, 11, 13, 14, 15, 12, 16, 17, 18, 21, 20, 19, 22, 23, 25, 27, 24,\n",
       "       26, 29, 33, 31, 32, 34, 30, 35, 28, 36, 37])"
      ]
     },
     "execution_count": 22,
     "metadata": {},
     "output_type": "execute_result"
    }
   ],
   "source": [
    "df.state.unique()"
   ]
  },
  {
   "cell_type": "code",
   "execution_count": 23,
   "id": "79ce5e91",
   "metadata": {},
   "outputs": [],
   "source": [
    "beds = df[ (df['beds'] > 8 )].index\n",
    "df.drop(beds, inplace = True)"
   ]
  },
  {
   "cell_type": "code",
   "execution_count": 24,
   "id": "807e476a",
   "metadata": {},
   "outputs": [],
   "source": [
    "df.drop(df.index[df['baths'] == 0.0], inplace = True)\n",
    "\n",
    "df.drop(df.index[df['beds'] == 0], inplace = True)\n",
    "\n",
    "# using np.ceil to round to\n",
    "df['baths'] = df['baths'].apply(np.ceil)"
   ]
  },
  {
   "cell_type": "code",
   "execution_count": 25,
   "id": "c3084455",
   "metadata": {},
   "outputs": [
    {
     "name": "stdout",
     "output_type": "stream",
     "text": [
      "<class 'pandas.core.frame.DataFrame'>\n",
      "Int64Index: 111851 entries, 49685 to 249243\n",
      "Data columns (total 13 columns):\n",
      " #   Column                   Non-Null Count   Dtype  \n",
      "---  ------                   --------------   -----  \n",
      " 0   price                    111851 non-null  int64  \n",
      " 1   type                     111851 non-null  int32  \n",
      " 2   sqfeet                   111851 non-null  int64  \n",
      " 3   beds                     111851 non-null  int64  \n",
      " 4   baths                    111851 non-null  float64\n",
      " 5   smoking_allowed          111851 non-null  int64  \n",
      " 6   wheelchair_access        111851 non-null  int64  \n",
      " 7   electric_vehicle_charge  111851 non-null  int64  \n",
      " 8   comes_furnished          111851 non-null  int64  \n",
      " 9   laundry_options          111851 non-null  int32  \n",
      " 10  parking_options          111851 non-null  int32  \n",
      " 11  state                    111851 non-null  int32  \n",
      " 12  pets_allowed             111851 non-null  int64  \n",
      "dtypes: float64(1), int32(4), int64(8)\n",
      "memory usage: 10.2 MB\n"
     ]
    }
   ],
   "source": [
    "df.info()"
   ]
  },
  {
   "cell_type": "code",
   "execution_count": 26,
   "id": "0b7cf1df",
   "metadata": {},
   "outputs": [],
   "source": [
    "df.to_csv('Preprocessed_dataset.csv',index=False) "
   ]
  },
  {
   "cell_type": "code",
   "execution_count": null,
   "id": "657432ab",
   "metadata": {},
   "outputs": [],
   "source": []
  }
 ],
 "metadata": {
  "kernelspec": {
   "display_name": "Python 3 (ipykernel)",
   "language": "python",
   "name": "python3"
  },
  "language_info": {
   "codemirror_mode": {
    "name": "ipython",
    "version": 3
   },
   "file_extension": ".py",
   "mimetype": "text/x-python",
   "name": "python",
   "nbconvert_exporter": "python",
   "pygments_lexer": "ipython3",
   "version": "3.11.4"
  }
 },
 "nbformat": 4,
 "nbformat_minor": 5
}
